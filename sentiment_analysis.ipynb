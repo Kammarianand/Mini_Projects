{
  "cells": [
    {
      "cell_type": "markdown",
      "metadata": {
        "id": "view-in-github",
        "colab_type": "text"
      },
      "source": [
        "<a href=\"https://colab.research.google.com/github/Kammarianand/Text-Classification-/blob/main/sentiment_analysis.ipynb\" target=\"_parent\"><img src=\"https://colab.research.google.com/assets/colab-badge.svg\" alt=\"Open In Colab\"/></a>"
      ]
    },
    {
      "cell_type": "code",
      "source": [
        "!pip install transformers"
      ],
      "metadata": {
        "id": "f541Rl0XnZ4X"
      },
      "execution_count": null,
      "outputs": []
    },
    {
      "cell_type": "code",
      "execution_count": null,
      "metadata": {
        "id": "F0qaejheORwE"
      },
      "outputs": [],
      "source": [
        "import pandas as pd\n",
        "import numpy as np\n",
        "import matplotlib.pyplot as plt\n",
        "import seaborn as sns\n",
        "sns.set(style='whitegrid',font_scale=1.2)\n",
        "sns.set_palette(sns.color_palette(\"rocket\"))\n",
        "\n",
        "from sklearn.model_selection import train_test_split\n",
        "from sklearn.metrics import confusion_matrix, classification_report\n",
        "\n",
        "import transformers\n",
        "from transformers import BertModel, BertTokenizer, AdamW, get_linear_schedule_with_warmup\n",
        "import torch\n",
        "from torch import nn, optim\n",
        "from torch.utils.data import Dataset, DataLoader\n",
        "\n",
        "from collections import defaultdict\n",
        "\n",
        "# ignore the warnings\n",
        "import warnings\n",
        "warnings.filterwarnings('ignore')"
      ]
    },
    {
      "cell_type": "code",
      "execution_count": null,
      "metadata": {
        "id": "1iTG4_j3O0FR"
      },
      "outputs": [],
      "source": [
        "# Let's start by defining some key variables that will be used later on in the training/evaluation process\n",
        "RANDOM_SEED = 50\n",
        "BATCH_SIZE = 16 # Note that increasing the batch size reduces the training time significantly, but gives you lower accuracy.\n",
        "# Set seed for reproducibility.\n",
        "np.random.seed(RANDOM_SEED)\n",
        "torch.manual_seed(RANDOM_SEED)\n",
        "device = torch.device(\"cuda:0\" if torch.cuda.is_available() else \"cpu\")"
      ]
    },
    {
      "cell_type": "code",
      "execution_count": null,
      "metadata": {
        "id": "CVao9pz2O3Uw"
      },
      "outputs": [],
      "source": [
        "df_reviews = pd.read_csv(\"bert_sentiment.csv\")\n",
        "df_reviews.head(3)"
      ]
    },
    {
      "cell_type": "code",
      "execution_count": null,
      "metadata": {
        "id": "rA7U_LKUO3Xa"
      },
      "outputs": [],
      "source": [
        "# drop review id\n",
        "df_reviews.drop('reviewId',axis=1,inplace=True)"
      ]
    },
    {
      "cell_type": "code",
      "execution_count": null,
      "metadata": {
        "id": "VZQlYHX1O3Z1"
      },
      "outputs": [],
      "source": [
        "# lets check the shape of reviews dataframe\n",
        "df_reviews.shape"
      ]
    },
    {
      "cell_type": "code",
      "execution_count": null,
      "metadata": {
        "id": "DuHFkrIEO3dO"
      },
      "outputs": [],
      "source": [
        "df_reviews.isnull().sum()\n"
      ]
    },
    {
      "cell_type": "code",
      "execution_count": null,
      "metadata": {
        "id": "kHZRQZ-2O3ke"
      },
      "outputs": [],
      "source": [
        "def draw_percentage(ax,total=float(len(df_reviews))):\n",
        "    for p in ax.patches:\n",
        "        percentage = '{:.1f}%'.format(100 * p.get_height()/total)\n",
        "        x = p.get_x() + p.get_width() / 2.\n",
        "        y = p.get_height()\n",
        "        ax.annotate(percentage, (x, y),ha='center',va='bottom')"
      ]
    },
    {
      "cell_type": "code",
      "execution_count": null,
      "metadata": {
        "id": "Ju7EV1_eO3nI"
      },
      "outputs": [],
      "source": [
        "plt.figure(figsize = (10,6))\n",
        "total = float(len(df_reviews))\n",
        "ax = sns.countplot(x = 'score',data=df_reviews)\n",
        "plt.title('Count Plot of Review Score', fontsize=20)\n",
        "plt.xlabel('review score')\n",
        "draw_percentage(ax)\n",
        "plt.show()"
      ]
    },
    {
      "cell_type": "code",
      "execution_count": null,
      "metadata": {
        "id": "8-4qvqxvO3pk"
      },
      "outputs": [],
      "source": [
        "def to_sentiment(rating):\n",
        "    rating = int(rating)\n",
        "    if rating <= 2:\n",
        "        return 0\n",
        "    elif rating == 3:\n",
        "        return 1\n",
        "    else:\n",
        "        return 2\n",
        "\n",
        "df_reviews['sentiment'] = df_reviews.score.apply(to_sentiment)"
      ]
    },
    {
      "cell_type": "code",
      "execution_count": null,
      "metadata": {
        "id": "uml0wWHvO3sR"
      },
      "outputs": [],
      "source": [
        "plt.figure(figsize = (8,6))\n",
        "total = float(len(df_reviews))\n",
        "ax = sns.countplot(x = 'sentiment',data=df_reviews)\n",
        "\n",
        "\n",
        "class_names = ['negative', 'neutral', 'positive']\n",
        "ax.set_xticklabels(class_names)\n",
        "plt.title('Count Plot of Review Score', fontsize=20)\n",
        "plt.xlabel('review sentiment')\n",
        "draw_percentage(ax)\n",
        "\n",
        "plt.show()"
      ]
    },
    {
      "cell_type": "code",
      "execution_count": null,
      "metadata": {
        "id": "JXNFpRpXO3u3"
      },
      "outputs": [],
      "source": [
        "# We can use a cased and uncased version of BERT and tokenizer. I am using cased version.\n",
        "PRE_TRAINED_MODEL_NAME = 'bert-base-cased'\n",
        "\n",
        "# Let's load a pre-trained BertTokenizer\n",
        "tokenizer = BertTokenizer.from_pretrained(PRE_TRAINED_MODEL_NAME)"
      ]
    },
    {
      "cell_type": "code",
      "execution_count": null,
      "metadata": {
        "id": "BQxxZ8gPO3xl"
      },
      "outputs": [],
      "source": [
        "sample_txt = \"we love you\"\n",
        "\n",
        "tokens = tokenizer.tokenize(sample_txt)\n",
        "token_ids = tokenizer.convert_tokens_to_ids(tokens)\n",
        "\n",
        "print(f' Sentence: {sample_txt}')\n",
        "print(f'   Tokens: {tokens}')\n",
        "print(f'Token IDs: {token_ids}')"
      ]
    },
    {
      "cell_type": "code",
      "execution_count": null,
      "metadata": {
        "id": "ok_JZ7snO3z1"
      },
      "outputs": [],
      "source": [
        "encoding = tokenizer.encode_plus(\n",
        "    sample_txt,\n",
        "    padding='max_length', # Pad sentence to max length\n",
        "    truncation=True,  #Truncate sentence to max length\n",
        "    max_length=32,\n",
        "    add_special_tokens=True, # Add '[CLS]' and '[SEP]'\n",
        "    return_token_type_ids=False,\n",
        "    return_attention_mask=True, # Return attention mask\n",
        "    return_tensors='pt',  # Return torch objects\n",
        "    )\n",
        "\n",
        "encoding.keys()"
      ]
    },
    {
      "cell_type": "code",
      "execution_count": null,
      "metadata": {
        "id": "QDVEA-UnO32e"
      },
      "outputs": [],
      "source": [
        "print(len(encoding['input_ids'][0]))\n",
        "print(encoding['input_ids'][0])"
      ]
    },
    {
      "cell_type": "code",
      "execution_count": null,
      "metadata": {
        "id": "xFhg1kVvO356"
      },
      "outputs": [],
      "source": [
        "# The attention mask has the same length\n",
        "print(len(encoding['attention_mask'][0]))\n",
        "print(encoding['attention_mask'])"
      ]
    },
    {
      "cell_type": "code",
      "execution_count": null,
      "metadata": {
        "id": "v5XQg6BdO3-E"
      },
      "outputs": [],
      "source": [
        "# We can inverse the tokenization to have a look at the special tokens\n",
        "tokenizer.convert_ids_to_tokens(encoding['input_ids'][0])"
      ]
    },
    {
      "cell_type": "code",
      "execution_count": null,
      "metadata": {
        "id": "MCVa2NgoO4B4"
      },
      "outputs": [],
      "source": [
        "# BERT works with fixed-length sequences. We'll use a simple strategy to choose the max length.\n",
        "# Let's store the token length of each review..\n",
        "\n",
        "token_lens = []\n",
        "for text in df_reviews.content:\n",
        "    tokens = tokenizer.encode(text, truncation=True,max_length=512)\n",
        "    token_lens.append(len(tokens))"
      ]
    },
    {
      "cell_type": "code",
      "execution_count": null,
      "metadata": {
        "id": "sYYS4-mDO4EQ"
      },
      "outputs": [],
      "source": [
        "plt.figure(figsize = (8,6))\n",
        "sns.histplot(token_lens,kde=True)\n",
        "plt.xlim([0, 150])\n",
        "plt.xlabel('Token count')\n",
        "plt.show()"
      ]
    },
    {
      "cell_type": "code",
      "execution_count": null,
      "metadata": {
        "id": "1jNniFAKO4G2"
      },
      "outputs": [],
      "source": [
        "MAX_LEN = 150"
      ]
    },
    {
      "cell_type": "code",
      "execution_count": null,
      "metadata": {
        "id": "jC_d4gzJO4JR"
      },
      "outputs": [],
      "source": [
        "# We have all building blocks required to create a torch dataset. Let's do it...\n",
        "class dataset(Dataset):\n",
        "\n",
        "    def __init__(self, reviews, targets, tokenizer, max_len):\n",
        "\n",
        "        self.reviews = reviews\n",
        "        self.targets = targets\n",
        "        self.tokenizer = tokenizer\n",
        "        self.max_len = max_len\n",
        "\n",
        "    def __len__(self):\n",
        "        return len(self.reviews)\n",
        "\n",
        "    def __getitem__(self, item):\n",
        "        # step 1: get the reviews and targets\n",
        "        review = str(self.reviews[item])\n",
        "        target = self.targets[item]\n",
        "        # step 2: use tokenizer to encode sentence (includes padding/truncation up to max length)\n",
        "        encoding = self.tokenizer.encode_plus(\n",
        "            review,\n",
        "            add_special_tokens=True, # Add '[CLS]' and '[SEP]'\n",
        "            padding='max_length',  # Pad sentence to max length\n",
        "            truncation=True,    # Truncate sentence to max length\n",
        "            max_length=self.max_len,\n",
        "            return_token_type_ids=False,\n",
        "            return_attention_mask=True, # Return attention mask\n",
        "            return_tensors='pt', # return torch objects/tensor\n",
        "        )\n",
        "        return {\n",
        "            'review_text': review,\n",
        "            'input_ids': encoding['input_ids'].flatten(),  # Tensor of token ids to be fed to a model\n",
        "            'attention_mask': encoding['attention_mask'].flatten(),  #Tensor of indices specifying which tokens should be attended to by the model\n",
        "            'targets': torch.tensor(target, dtype=torch.long)\n",
        "            }"
      ]
    },
    {
      "cell_type": "code",
      "execution_count": null,
      "metadata": {
        "id": "tO2zQw8-O4L1"
      },
      "outputs": [],
      "source": [
        "df_train, df_test = train_test_split(df_reviews, test_size=0.1, random_state=RANDOM_SEED)\n",
        "df_val, df_test = train_test_split(df_test, test_size=0.5, random_state=RANDOM_SEED)\n",
        "\n",
        "print('Train Data Size', df_train.shape)\n",
        "print('Validation Data Size', df_val.shape)\n",
        "print('Test Data Size', df_test.shape)\n"
      ]
    },
    {
      "cell_type": "code",
      "execution_count": null,
      "metadata": {
        "id": "Iu1XYnN3O4OZ"
      },
      "outputs": [],
      "source": [
        "def create_data_loader(df, tokenizer, max_len, batch_size):\n",
        "    ds = dataset(\n",
        "        reviews=df.content.to_numpy(),\n",
        "        targets=df.sentiment.to_numpy(),\n",
        "        tokenizer=tokenizer,\n",
        "        max_len=max_len\n",
        "      )\n",
        "    return DataLoader(\n",
        "        ds,\n",
        "        batch_size=batch_size\n",
        "      )\n"
      ]
    },
    {
      "cell_type": "code",
      "execution_count": null,
      "metadata": {
        "id": "4oS-U-sJO4Qr"
      },
      "outputs": [],
      "source": [
        "train_data_loader = create_data_loader(df_train, tokenizer, MAX_LEN, BATCH_SIZE)\n",
        "val_data_loader = create_data_loader(df_val, tokenizer, MAX_LEN, BATCH_SIZE)\n",
        "test_data_loader = create_data_loader(df_test, tokenizer, MAX_LEN, BATCH_SIZE)"
      ]
    },
    {
      "cell_type": "code",
      "execution_count": null,
      "metadata": {
        "id": "sC5XbemAO4TQ"
      },
      "outputs": [],
      "source": [
        "data = next(iter(train_data_loader))\n",
        "data.keys()\n"
      ]
    },
    {
      "cell_type": "code",
      "execution_count": null,
      "metadata": {
        "id": "wKb1lfGUO4Vt"
      },
      "outputs": [],
      "source": [
        "bert_model = BertModel.from_pretrained(PRE_TRAINED_MODEL_NAME,return_dict=False)\n"
      ]
    },
    {
      "cell_type": "code",
      "execution_count": null,
      "metadata": {
        "id": "CJOTnqFjO4YI"
      },
      "outputs": [],
      "source": [
        "last_hidden_state, pooled_output = bert_model(\n",
        "  input_ids=encoding['input_ids'],\n",
        "  attention_mask=encoding['attention_mask']\n",
        ")\n",
        "# The last_hidden_state is a sequence of hidden states of the last layer of the model.\n",
        "# Obtaining the pooled_output is done by applying the BertPooler on last_hidden_state.\n",
        "last_hidden_state.shape"
      ]
    },
    {
      "cell_type": "code",
      "execution_count": null,
      "metadata": {
        "id": "6qRwhhjLO4bq"
      },
      "outputs": [],
      "source": [
        "class SentimentClassifier(nn.Module):\n",
        "    def __init__(self, n_classes):\n",
        "        super(SentimentClassifier, self).__init__()\n",
        "        self.bert = BertModel.from_pretrained(PRE_TRAINED_MODEL_NAME,return_dict=False)\n",
        "        # dropout layer for some regularization\n",
        "        self.drop = nn.Dropout(p=0.3)\n",
        "        # A fully-connected layer for our output\n",
        "        self.out = nn.Linear(self.bert.config.hidden_size, n_classes)\n",
        "    def forward(self, input_ids, attention_mask):\n",
        "        \"\"\"\n",
        "        Feed input to BERT and the classifier to compute logits.\n",
        "        @param    input_ids (torch.Tensor): an input tensor with shape (batch_size,\n",
        "                      max_length)\n",
        "        @param    attention_mask (torch.Tensor): a tensor that hold attention mask\n",
        "                      information with shape (batch_size, max_length)\n",
        "        @return   logits (torch.Tensor): an output tensor with shape (batch_size,\n",
        "                      num_labels)\n",
        "        \"\"\"\n",
        "        # Feed input to BERT\n",
        "        last_hidden_state,pooled_output = self.bert(\n",
        "        input_ids=input_ids,\n",
        "        attention_mask=attention_mask\n",
        "        )\n",
        "        output = self.drop(pooled_output)\n",
        "        return self.out(output)\n"
      ]
    },
    {
      "cell_type": "code",
      "execution_count": null,
      "metadata": {
        "id": "qY6rJliTQhJL"
      },
      "outputs": [],
      "source": [
        "# Let's create an instance and move it to the GPU.\n",
        "model = SentimentClassifier(len(class_names))\n",
        "model = model.to(device)"
      ]
    },
    {
      "cell_type": "code",
      "execution_count": null,
      "metadata": {
        "id": "7lT-h4NnQhX-"
      },
      "outputs": [],
      "source": [
        "# We'll move the example batch of our training data to the GPU\n",
        "input_ids = data['input_ids'].to(device)\n",
        "attention_mask = data['attention_mask'].to(device)\n",
        "print(input_ids.shape) # batch size x seq length\n",
        "print(attention_mask.shape) # batch size x seq length"
      ]
    },
    {
      "cell_type": "code",
      "execution_count": null,
      "metadata": {
        "id": "0qI86gchQha2"
      },
      "outputs": [],
      "source": [
        "EPOCHS = 3\n",
        "#  AdamW optimizer to correct weight decay\n",
        "optimizer = AdamW(model.parameters(), lr=2e-5, correct_bias=False)\n",
        "total_steps = len(train_data_loader) * EPOCHS\n",
        "#  We'll also use a linear scheduler with no warmup steps\n",
        "scheduler = get_linear_schedule_with_warmup(\n",
        "  optimizer,\n",
        "  num_warmup_steps=0,\n",
        "  num_training_steps=total_steps\n",
        ")\n",
        "# cross-entropy loss function\n",
        "loss_fn = nn.CrossEntropyLoss().to(device)"
      ]
    },
    {
      "cell_type": "code",
      "execution_count": null,
      "metadata": {
        "id": "lf9X0kFZQhdg"
      },
      "outputs": [],
      "source": [
        "def train_epoch(model,data_loader,loss_fn,optimizer,device,scheduler,n_examples):\n",
        "    # put model in training mode\n",
        "    model = model.train()\n",
        "    # Create empty lists to store outputs\n",
        "    losses = []\n",
        "    correct_predictions = 0\n",
        "    for batch in data_loader:\n",
        "        # We'll move the example batch of our training data to the GPU\n",
        "        input_ids = batch[\"input_ids\"].to(device)\n",
        "        attention_mask = batch[\"attention_mask\"].to(device)\n",
        "        targets = batch[\"targets\"].to(device)\n",
        "\n",
        "        # Perform a forward pass. This will return logits.\n",
        "        outputs = model(\n",
        "              input_ids=input_ids,\n",
        "              attention_mask=attention_mask\n",
        "            )\n",
        "        # Get the predictions\n",
        "        _, preds = torch.max(outputs, dim=1)\n",
        "\n",
        "        # Compute loss and accumulate the loss values\n",
        "        loss = loss_fn(outputs, targets)\n",
        "        losses.append(loss.item())\n",
        "        # Calculate the accuracy rate\n",
        "        correct_predictions += torch.sum(preds == targets)\n",
        "        # backward pass - Perform a backward pass to calculate gradients\n",
        "        loss.backward()\n",
        "        # gradient clipping - Clip the norm of the gradients to 1.0 to prevent \"exploding gradients\"\n",
        "        nn.utils.clip_grad_norm_(model.parameters(), max_norm=1.0)\n",
        "        # Update parameters and the learning rate\n",
        "        optimizer.step()\n",
        "        scheduler.step()\n",
        "        # Zero out any previously calculated gradients\n",
        "        optimizer.zero_grad()\n",
        "\n",
        "    return correct_predictions.double() / n_examples, np.mean(losses)"
      ]
    },
    {
      "cell_type": "code",
      "execution_count": null,
      "metadata": {
        "id": "__cwOkKfFhCk"
      },
      "outputs": [],
      "source": [
        "def eval_model(model, data_loader, loss_fn, device, n_examples):\n",
        "    # put model in evaluation mode\n",
        "    model = model.eval()\n",
        "    # Create empty lists to store outputs\n",
        "    losses = []\n",
        "    correct_predictions = 0\n",
        "    with torch.no_grad():\n",
        "        for batch in data_loader:\n",
        "            # We'll move the example batch of our validation data to the GPU\n",
        "            input_ids = batch[\"input_ids\"].to(device)\n",
        "            attention_mask = batch[\"attention_mask\"].to(device)\n",
        "            targets = batch[\"targets\"].to(device)\n",
        "\n",
        "            # Perform a forward pass. This will return logits.\n",
        "            outputs = model(input_ids=input_ids,attention_mask=attention_mask)\n",
        "            # Get the predictions\n",
        "            _, preds = torch.max(outputs, dim=1)\n",
        "\n",
        "            # Compute loss and accumulate the loss values\n",
        "            loss = loss_fn(outputs, targets)\n",
        "            losses.append(loss.item())\n",
        "            # Calculate the accuracy rate\n",
        "            correct_predictions += torch.sum(preds == targets)\n",
        "\n",
        "    return correct_predictions.double() / n_examples, np.mean(losses)"
      ]
    },
    {
      "cell_type": "code",
      "execution_count": null,
      "metadata": {
        "id": "3Dp6rHcIFTnm"
      },
      "outputs": [],
      "source": []
    },
    {
      "cell_type": "code",
      "execution_count": 84,
      "metadata": {
        "colab": {
          "base_uri": "https://localhost:8080/"
        },
        "id": "XgXFdABcQhf-",
        "outputId": "fa7bd965-cbed-4fe6-cd6d-3383fce10f92"
      },
      "outputs": [
        {
          "output_type": "stream",
          "name": "stdout",
          "text": [
            "Epoch 1/3\n",
            "----------------------------------------------------------------------------------------------------\n",
            "Train loss 0.7267277821750084 accuracy 0.7149844375277902\n",
            "Val loss   0.5925249550491571 accuracy 0.768\n",
            "\n",
            "Epoch 2/3\n",
            "----------------------------------------------------------------------------------------------------\n",
            "Train loss 0.5526531138384495 accuracy 0.7848821698532682\n",
            "Val loss   0.5813335690647363 accuracy 0.7712\n",
            "\n",
            "Epoch 3/3\n",
            "----------------------------------------------------------------------------------------------------\n",
            "Train loss 0.446116003900724 accuracy 0.8315695864828813\n",
            "Val loss   0.6558079111855477 accuracy 0.7536\n",
            "\n",
            "CPU times: user 10min 26s, sys: 4min 22s, total: 14min 49s\n",
            "Wall time: 15min 29s\n"
          ]
        }
      ],
      "source": [
        "%%time\n",
        "history = defaultdict(list)\n",
        "best_accuracy = 0\n",
        "# Start training loop\n",
        "for epoch in range(EPOCHS):\n",
        "    print(f'Epoch {epoch + 1}/{EPOCHS}')\n",
        "    print('-' * 100)\n",
        "    # model training\n",
        "    train_acc, train_loss = train_epoch(model, train_data_loader, loss_fn, optimizer, device, scheduler, len(df_train))\n",
        "    print(f'Train loss {train_loss} accuracy {train_acc}')\n",
        "    # After the completion of each training epoch, measure the model's performance on our validation set.\n",
        "    val_acc, val_loss = eval_model(model, val_data_loader, loss_fn, device, len(df_val))\n",
        "    print(f'Val loss   {val_loss} accuracy {val_acc}')\n",
        "    print()\n",
        "    # append training accuracy,loss and validation accuracy and loss to the history variable\n",
        "    history['train_acc'].append(train_acc)\n",
        "    history['train_loss'].append(train_loss)\n",
        "    history['val_acc'].append(val_acc)\n",
        "    history['val_loss'].append(val_loss)\n",
        "    # save the best model based on below condition\n",
        "    if val_acc > best_accuracy:\n",
        "        torch.save(model.state_dict(), 'best_model_state.bin')\n",
        "        best_accuracy = val_acc"
      ]
    },
    {
      "cell_type": "code",
      "execution_count": 85,
      "metadata": {
        "id": "1k0hihsMJowK"
      },
      "outputs": [],
      "source": [
        "history_cpu_train_acc = [i.cpu() for i in history['train_acc']]\n",
        "history_cpu_val_acc = [i.cpu() for i in history['val_acc']]"
      ]
    },
    {
      "cell_type": "code",
      "execution_count": 86,
      "metadata": {
        "colab": {
          "base_uri": "https://localhost:8080/",
          "height": 485
        },
        "id": "KmVFbXLXQhih",
        "outputId": "be4e94a0-83b4-43f7-e8fe-71e71a494772"
      },
      "outputs": [
        {
          "output_type": "display_data",
          "data": {
            "text/plain": [
              "<Figure size 640x480 with 1 Axes>"
            ],
            "image/png": "[encoded data removed]"
          },
          "metadata": {}
        }
      ],
      "source": [
        "plt.plot(history_cpu_train_acc, label='train accuracy')\n",
        "plt.plot(history_cpu_val_acc, label='validation accuracy')\n",
        "plt.title('Training history')\n",
        "plt.ylabel('Accuracy')\n",
        "plt.xlabel('Epoch')\n",
        "plt.legend()\n",
        "plt.ylim([0, 1])\n",
        "plt.show()"
      ]
    },
    {
      "cell_type": "code",
      "execution_count": 87,
      "metadata": {
        "id": "tkMJ01NJQhk7"
      },
      "outputs": [],
      "source": [
        "model = SentimentClassifier(len(class_names))\n",
        "model.load_state_dict(torch.load('best_model_state.bin'))\n",
        "model = model.to(device)"
      ]
    },
    {
      "cell_type": "code",
      "execution_count": 88,
      "metadata": {
        "colab": {
          "base_uri": "https://localhost:8080/"
        },
        "id": "Tv4ql0qvQhoS",
        "outputId": "86cbae90-93ea-45e3-b959-800590b92c57"
      },
      "outputs": [
        {
          "output_type": "execute_result",
          "data": {
            "text/plain": [
              "0.7664000000000001"
            ]
          },
          "metadata": {},
          "execution_count": 88
        }
      ],
      "source": [
        "test_acc, _ = eval_model(\n",
        "  model,\n",
        "  test_data_loader,\n",
        "  loss_fn,\n",
        "  device,\n",
        "  len(df_test)\n",
        ")\n",
        "test_acc.item()"
      ]
    },
    {
      "cell_type": "code",
      "execution_count": 89,
      "metadata": {
        "id": "O4qfH7uqQhsl"
      },
      "outputs": [],
      "source": [
        "def get_predictions(model, data_loader):\n",
        "  # put model in evaluation mode\n",
        "  model = model.eval()\n",
        "  # Create empty lists to store outputs\n",
        "  review_texts = []\n",
        "  predictions = []\n",
        "  prediction_probs = []\n",
        "  real_values = []\n",
        "\n",
        "  with torch.no_grad():\n",
        "    for batch in data_loader:\n",
        "      # We'll move the example batch of our test data to the GPU\n",
        "      texts = batch[\"review_text\"]\n",
        "      input_ids = batch[\"input_ids\"].to(device)\n",
        "      attention_mask = batch[\"attention_mask\"].to(device)\n",
        "      targets = batch[\"targets\"].to(device)\n",
        "      # Perform a forward pass. This will return logits.\n",
        "      outputs = model(\n",
        "        input_ids=input_ids,\n",
        "        attention_mask=attention_mask\n",
        "      )\n",
        "      # Get the predictions\n",
        "      _, preds = torch.max(outputs, dim=1)\n",
        "      review_texts.extend(texts)\n",
        "      predictions.extend(preds)\n",
        "      prediction_probs.extend(outputs)\n",
        "      real_values.extend(targets)\n",
        "  predictions = torch.stack(predictions).cpu()\n",
        "  prediction_probs = torch.stack(prediction_probs).cpu()\n",
        "  real_values = torch.stack(real_values).cpu()\n",
        "  return review_texts, predictions, prediction_probs, real_values"
      ]
    },
    {
      "cell_type": "code",
      "execution_count": 90,
      "metadata": {
        "id": "BN7MfFbuQhvX"
      },
      "outputs": [],
      "source": [
        "y_review_texts, y_pred, y_pred_probs, y_test = get_predictions(\n",
        "  model,\n",
        "  test_data_loader\n",
        ")\n"
      ]
    },
    {
      "cell_type": "code",
      "execution_count": 91,
      "metadata": {
        "colab": {
          "base_uri": "https://localhost:8080/"
        },
        "id": "GwWkSqIcQhx5",
        "outputId": "9d54dd29-4fb8-4d46-fd33-b36d0547f814"
      },
      "outputs": [
        {
          "output_type": "stream",
          "name": "stdout",
          "text": [
            "              precision    recall  f1-score   support\n",
            "\n",
            "    negative       0.81      0.76      0.79       238\n",
            "     neutral       0.37      0.24      0.29        94\n",
            "    positive       0.81      0.94      0.87       293\n",
            "\n",
            "    accuracy                           0.77       625\n",
            "   macro avg       0.66      0.65      0.65       625\n",
            "weighted avg       0.74      0.77      0.75       625\n",
            "\n"
          ]
        }
      ],
      "source": [
        "print(classification_report(y_test, y_pred, target_names=class_names))"
      ]
    },
    {
      "cell_type": "code",
      "execution_count": 92,
      "metadata": {
        "colab": {
          "base_uri": "https://localhost:8080/",
          "height": 500
        },
        "id": "YqWdwrtUQh1S",
        "outputId": "3a9a54de-ed62-4883-a0c4-13f2b17ad596"
      },
      "outputs": [
        {
          "output_type": "display_data",
          "data": {
            "text/plain": [
              "<Figure size 640x480 with 2 Axes>"
            ],
            "image/png": "[encoded data removed]"
          },
          "metadata": {}
        }
      ],
      "source": [
        "def show_confusion_matrix(confusion_matrix):\n",
        "  hmap = sns.heatmap(confusion_matrix, annot=True, fmt=\"d\", cmap=\"plasma\")\n",
        "  hmap.yaxis.set_ticklabels(hmap.yaxis.get_ticklabels(), rotation=0, ha='right')\n",
        "  hmap.xaxis.set_ticklabels(hmap.xaxis.get_ticklabels(), rotation=30, ha='right')\n",
        "  plt.ylabel('True sentiment')\n",
        "  plt.xlabel('Predicted sentiment');\n",
        "cm = confusion_matrix(y_test, y_pred)\n",
        "df_cm = pd.DataFrame(cm, index=class_names, columns=class_names)\n",
        "show_confusion_matrix(df_cm)"
      ]
    },
    {
      "cell_type": "code",
      "execution_count": 93,
      "metadata": {
        "colab": {
          "base_uri": "https://localhost:8080/"
        },
        "id": "i8L354NeSeVJ",
        "outputId": "1446fc96-c5f4-4c3f-9ca6-99693ec9052d"
      },
      "outputs": [
        {
          "output_type": "stream",
          "name": "stdout",
          "text": [
            "A fantastic and helpful app became useless with the last update.\n",
            "Grouping open and completed tasks may be helpful for some, but for\n",
            "some types of lists it would be really handy to have all tasks\n",
            "together. For example a picking list (or shopping list) with the items\n",
            "sorted in order of their position in the warehouse. You do not need\n",
            "everything every time, so you can just uncheck the items when needed\n",
            "during a round, possibly hiding the completed tasks to minimize screen\n",
            "cluttering. This was possible before, but with the recent update(s)\n",
            "all completed tasks have moved to a separate list. All custom sorting\n",
            "is lost. Dear Microsoft, please re enable these features. You could\n",
            "provide an option in settings to use one or the other. (Maybe even on\n",
            "a list level) 2 stars because it used to be a good app, otherwise I\n",
            "would have now given it only 1 star.\n",
            "\n",
            "True sentiment: negative\n"
          ]
        }
      ],
      "source": [
        "idx = 50\n",
        "review_text = y_review_texts[idx]\n",
        "true_sentiment = y_test[idx]\n",
        "pred_df = pd.DataFrame({\n",
        "  'class_names': class_names,\n",
        "  'values': y_pred_probs[idx]\n",
        "})\n",
        "\n",
        "from textwrap import wrap\n",
        "print(\"\\n\".join(wrap(review_text)))\n",
        "print()\n",
        "print(f'True sentiment: {class_names[true_sentiment]}')"
      ]
    },
    {
      "cell_type": "code",
      "execution_count": 94,
      "metadata": {
        "colab": {
          "base_uri": "https://localhost:8080/",
          "height": 462
        },
        "id": "zFLu8VvpSegf",
        "outputId": "cc52c185-3e88-4c0a-a770-84cf002e95ac"
      },
      "outputs": [
        {
          "output_type": "display_data",
          "data": {
            "text/plain": [
              "<Figure size 640x480 with 1 Axes>"
            ],
            "image/png": "[encoded data removed]"
          },
          "metadata": {}
        }
      ],
      "source": [
        "sns.barplot(x='values', y='class_names', data=pred_df, orient='h')\n",
        "plt.ylabel('sentiment')\n",
        "plt.xlabel('probability')\n",
        "plt.xlim([0, 1])\n",
        "plt.show()"
      ]
    },
    {
      "cell_type": "code",
      "execution_count": 95,
      "metadata": {
        "id": "j3XZLu-QSejC"
      },
      "outputs": [],
      "source": [
        "# Let's use our model to predict the sentiment of some raw text\n",
        "raw_text = \"It is very useful for seening plans for recharging jio. We can recharge plans easily by using this my jio app.\"\n"
      ]
    },
    {
      "cell_type": "code",
      "execution_count": 96,
      "metadata": {
        "id": "ZnFriMe5SelV"
      },
      "outputs": [],
      "source": [
        "def prediction_on_raw_data(raw_text):\n",
        "  encoded_review = tokenizer.encode_plus(\n",
        "  raw_text,\n",
        "  padding='max_length', # Pad sentence to max length\n",
        "  truncation=True,  #Truncate sentence to max length\n",
        "  max_length=32,\n",
        "  add_special_tokens=True, # Add '[CLS]' and '[SEP]'\n",
        "  return_token_type_ids=False,\n",
        "  return_attention_mask=True, # Return attention mask\n",
        "  return_tensors='pt',  # Return torch objects\n",
        "  )\n",
        "\n",
        "  input_ids = encoded_review['input_ids'].to(device)\n",
        "  attention_mask = encoded_review['attention_mask'].to(device)\n",
        "  output = model(input_ids, attention_mask)\n",
        "\n",
        "  _, prediction = torch.max(output, dim=1)\n",
        "\n",
        "  print(f'Review text: {raw_text}')\n",
        "  print(f'Sentiment  : {class_names[prediction]}')"
      ]
    },
    {
      "cell_type": "code",
      "execution_count": 97,
      "metadata": {
        "colab": {
          "base_uri": "https://localhost:8080/"
        },
        "id": "A7_QGrC0Seow",
        "outputId": "b2cbf3db-2390-4e92-bd5c-e6f9268ab34b"
      },
      "outputs": [
        {
          "output_type": "stream",
          "name": "stdout",
          "text": [
            "Review text: It is very useful for seening plans for recharging jio. We can recharge plans easily by using this my jio app.\n",
            "Sentiment  : positive\n"
          ]
        }
      ],
      "source": [
        "prediction_on_raw_data(raw_text)"
      ]
    },
    {
      "cell_type": "code",
      "execution_count": 98,
      "metadata": {
        "colab": {
          "base_uri": "https://localhost:8080/"
        },
        "id": "tJBgLXZtSsny",
        "outputId": "0ab41811-82c2-4b04-bc18-a71919bb09ed"
      },
      "outputs": [
        {
          "output_type": "stream",
          "name": "stdout",
          "text": [
            "Review text: this app is not that good\n",
            "Sentiment  : negative\n"
          ]
        }
      ],
      "source": [
        "raw_text = \"this app is not that good\"\n",
        "prediction_on_raw_data(raw_text)\n"
      ]
    },
    {
      "cell_type": "code",
      "source": [
        "imdb_google_review = \"Logan (2017) delivers a gritty and emotional portrayal of Wolverine's journey, offering a bittersweet farewell to the beloved character. Hugh Jackman's performance shines, evoking a mix of nostalgia and poignancy. The film's somber tone and intense action sequences contribute to its impact, though some might find its darkness a bit overwhelming\"\n",
        "prediction_on_raw_data(imdb_google_review)\n"
      ],
      "metadata": {
        "colab": {
          "base_uri": "https://localhost:8080/"
        },
        "id": "cWa-zc4ks-J-",
        "outputId": "8712fb53-af6b-4fe5-e50e-d5d86268ad01"
      },
      "execution_count": 99,
      "outputs": [
        {
          "output_type": "stream",
          "name": "stdout",
          "text": [
            "Review text: Logan (2017) delivers a gritty and emotional portrayal of Wolverine's journey, offering a bittersweet farewell to the beloved character. Hugh Jackman's performance shines, evoking a mix of nostalgia and poignancy. The film's somber tone and intense action sequences contribute to its impact, though some might find its darkness a bit overwhelming\n",
            "Sentiment  : positive\n"
          ]
        }
      ]
    },
    {
      "cell_type": "markdown",
      "source": [
        "<h1>Movie Review Analysis</h1>"
      ],
      "metadata": {
        "id": "YFaGwyutKIiG"
      }
    },
    {
      "cell_type": "code",
      "execution_count": 100,
      "metadata": {
        "id": "S2FKlMJZSs4p",
        "colab": {
          "base_uri": "https://localhost:8080/"
        },
        "outputId": "f569a291-653c-419a-a977-6f08f74d4e54"
      },
      "outputs": [
        {
          "output_type": "stream",
          "name": "stdout",
          "text": [
            "Movie: Interstellar\n",
            "Review text: A science-fiction masterpiece. Nolan executes a marvelous direction that slowly but efficiently puts in place a dark world creating a necessity to save humanity. Add to that great performances from Nolan and Hathaway plus a great score from Hans Zimmer. The result is on the best science-fiction movies of all time\n",
            "Sentiment  : positive\n",
            "\n",
            "Movie: Oppenheimer\n",
            "Review text: I'm a big Nolan fan. Maybe this one just wasn't for me.This movie was promoted as the story of the invention of the bomb. We were told we should see it on the biggest screen. Go out of your way for an IMAX 70mm projection if you can, or at least get a regular 70mm or Laser IMAX.\n",
            "Sentiment  : positive\n",
            "\n",
            "Movie: Jailer\n",
            "Review text: Nelson, you've truly exceeded expectations with your latest film, Jailer! This movie takes a fresh approach to the thriller genre, blending it seamlessly with your characteristic humor that will leave the audience in stitches. It's an exhilarating dark comedy rollercoaster that keeps you hooked throughout.\n",
            "Sentiment  : positive\n",
            "\n",
            "Movie: Gadar 2\n",
            "Review text: Undoubtedly Sunny Deol was very nice but I found the movie very annoying and specially the acting of the actress Ameesha Patel the new actress and the son. They definitely try to make some scenes emotional but they fail to do so and I really hate the writing of the writers. I mean this movie is coming after decades and a movie for only like stupid people, Pakistan was shown like North Korea\n",
            "Sentiment  : neutral\n",
            "\n"
          ]
        }
      ],
      "source": [
        "import pandas as pd\n",
        "imdb_reviews = [\n",
        "    {\"movie\": \"Interstellar\", \"review\": \"A science-fiction masterpiece. Nolan executes a marvelous direction that slowly but efficiently puts in place a dark world creating a necessity to save humanity. Add to that great performances from Nolan and Hathaway plus a great score from Hans Zimmer. The result is on the best science-fiction movies of all time\"},\n",
        "    {\"movie\": \"Oppenheimer\", \"review\": \"I'm a big Nolan fan. Maybe this one just wasn't for me.This movie was promoted as the story of the invention of the bomb. We were told we should see it on the biggest screen. Go out of your way for an IMAX 70mm projection if you can, or at least get a regular 70mm or Laser IMAX.\"},\n",
        "    {\"movie\": \"Jailer\", \"review\": \"Nelson, you've truly exceeded expectations with your latest film, Jailer! This movie takes a fresh approach to the thriller genre, blending it seamlessly with your characteristic humor that will leave the audience in stitches. It's an exhilarating dark comedy rollercoaster that keeps you hooked throughout.\"},\n",
        "    {\"movie\": \"Gadar 2\", \"review\": \"Undoubtedly Sunny Deol was very nice but I found the movie very annoying and specially the acting of the actress Ameesha Patel the new actress and the son. They definitely try to make some scenes emotional but they fail to do so and I really hate the writing of the writers. I mean this movie is coming after decades and a movie for only like stupid people, Pakistan was shown like North Korea\"},\n",
        "\n",
        "]\n",
        "\n",
        "\n",
        "for review_data in imdb_reviews:\n",
        "    review = review_data[\"review\"]\n",
        "    movie = review_data[\"movie\"]\n",
        "    print(f\"Movie: {movie}\")\n",
        "    sentiment = prediction_on_raw_data(review)\n",
        "\n",
        "    print(\"\")"
      ]
    },
    {
      "cell_type": "code",
      "source": [
        "#positive review\n"
      ],
      "metadata": {
        "id": "9D4cNE-HMYMr",
        "colab": {
          "base_uri": "https://localhost:8080/"
        },
        "outputId": "90621dbe-6e55-4842-8ff8-f743454a5d00"
      },
      "execution_count": 101,
      "outputs": [
        {
          "output_type": "stream",
          "name": "stdout",
          "text": [
            "hello world\n"
          ]
        }
      ]
    },
    {
      "cell_type": "code",
      "source": [
        "positive_texts = [\n",
        "    \"I absolutely loved the movie, it was captivating from start to finish!\",\n",
        "    \"The weather is fantastic today, perfect for a picnic in the park.\",\n",
        "    \"The new restaurant in town has amazing food and excellent service.\"\n",
        "]\n"
      ],
      "metadata": {
        "id": "05jTH7HkDB34"
      },
      "execution_count": 105,
      "outputs": []
    },
    {
      "cell_type": "code",
      "source": [
        "for text in positive_texts:\n",
        "    print(prediction_on_raw_data(text))"
      ],
      "metadata": {
        "colab": {
          "base_uri": "https://localhost:8080/"
        },
        "id": "xWiDWopRDsEH",
        "outputId": "546710f2-09f7-4942-9dce-8a847e69f71a"
      },
      "execution_count": 106,
      "outputs": [
        {
          "output_type": "stream",
          "name": "stdout",
          "text": [
            "Review text: I absolutely loved the movie, it was captivating from start to finish!\n",
            "Sentiment  : positive\n",
            "None\n",
            "Review text: The weather is fantastic today, perfect for a picnic in the park.\n",
            "Sentiment  : positive\n",
            "None\n",
            "Review text: The new restaurant in town has amazing food and excellent service.\n",
            "Sentiment  : positive\n",
            "None\n"
          ]
        }
      ]
    },
    {
      "cell_type": "code",
      "source": [
        "negative_texts = [\n",
        "    \"I had a terrible experience with the customer service, no one was willing to help.\",\n",
        "    \"The movie was a huge disappointment, the plot was confusing and the acting was subpar.\",\n",
        "    \"The traffic this morning was unbearable, it took me twice as long to get to work.\"\n",
        "]"
      ],
      "metadata": {
        "id": "zL9UpbIKDw9g"
      },
      "execution_count": 107,
      "outputs": []
    },
    {
      "cell_type": "code",
      "source": [
        "for text in negative_texts:\n",
        "    print(prediction_on_raw_data(text))"
      ],
      "metadata": {
        "colab": {
          "base_uri": "https://localhost:8080/"
        },
        "id": "irWmdqXNEBKd",
        "outputId": "8591cd1e-ec78-4664-9c6c-c4751939d2ca"
      },
      "execution_count": 108,
      "outputs": [
        {
          "output_type": "stream",
          "name": "stdout",
          "text": [
            "Review text: I had a terrible experience with the customer service, no one was willing to help.\n",
            "Sentiment  : negative\n",
            "None\n",
            "Review text: The movie was a huge disappointment, the plot was confusing and the acting was subpar.\n",
            "Sentiment  : negative\n",
            "None\n",
            "Review text: The traffic this morning was unbearable, it took me twice as long to get to work.\n",
            "Sentiment  : negative\n",
            "None\n"
          ]
        }
      ]
    },
    {
      "cell_type": "code",
      "source": [
        "neutral_texts = [\n",
        "    \"The report contains a comprehensive analysis of the market trends.\",\n",
        "    \"The conference will take place at the convention center from 9 AM to 5 PM.\",\n",
        "    \"The new software update includes several bug fixes and performance improvements.\"\n",
        "]"
      ],
      "metadata": {
        "id": "kM_1OiuZEFgL"
      },
      "execution_count": 109,
      "outputs": []
    },
    {
      "cell_type": "code",
      "source": [
        "for text in neutral_texts:\n",
        "    print(prediction_on_raw_data(text))"
      ],
      "metadata": {
        "colab": {
          "base_uri": "https://localhost:8080/"
        },
        "id": "NBy_y71iEKQ4",
        "outputId": "3bf3eac4-ac68-45be-e27a-eb581ceafd9a"
      },
      "execution_count": 110,
      "outputs": [
        {
          "output_type": "stream",
          "name": "stdout",
          "text": [
            "Review text: The report contains a comprehensive analysis of the market trends.\n",
            "Sentiment  : positive\n",
            "None\n",
            "Review text: The conference will take place at the convention center from 9 AM to 5 PM.\n",
            "Sentiment  : negative\n",
            "None\n",
            "Review text: The new software update includes several bug fixes and performance improvements.\n",
            "Sentiment  : positive\n",
            "None\n"
          ]
        }
      ]
    },
    {
      "cell_type": "code",
      "source": [],
      "metadata": {
        "id": "XQ3oSoWqEN82"
      },
      "execution_count": null,
      "outputs": []
    }
  ],
  "metadata": {
    "accelerator": "GPU",
    "colab": {
      "provenance": [],
      "include_colab_link": true
    },
    "gpuClass": "standard",
    "kernelspec": {
      "display_name": "Python 3",
      "language": "python",
      "name": "python3"
    },
    "language_info": {
      "codemirror_mode": {
        "name": "ipython",
        "version": 3
      },
      "file_extension": ".py",
      "mimetype": "text/x-python",
      "name": "python",
      "nbconvert_exporter": "python",
      "pygments_lexer": "ipython3",
      "version": "3.10.0"
    },
    "papermill": {
      "duration": 2188.44731,
      "end_time": "2020-12-24T11:17:19.363434",
      "environment_variables": {},
      "exception": null,
      "input_path": "__notebook__.ipynb",
      "output_path": "__notebook__.ipynb",
      "parameters": {},
      "start_time": "2020-12-24T10:40:50.916124",
      "version": "2.1.0"
    }
  },
  "nbformat": 4,
  "nbformat_minor": 0
}